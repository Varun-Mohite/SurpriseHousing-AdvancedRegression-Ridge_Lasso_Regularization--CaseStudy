{
 "cells": [
  {
   "cell_type": "markdown",
   "id": "64f35700",
   "metadata": {},
   "source": [
    "# Surprise Housing \n",
    "\n",
    "## Regression model using Advanced regression, Ridge and Lasso Regression and Regularization:\n",
    "\n",
    "##### - Varun Mohite (Jan 2024 program - IIITB ML & AI)"
   ]
  },
  {
   "cell_type": "markdown",
   "id": "1d040873",
   "metadata": {},
   "source": [
    "### This assignment is a programming assignment wherein I have built a advanced linear regression model for the prediction of demand for shared bikes for a company BoomBikes."
   ]
  },
  {
   "cell_type": "markdown",
   "id": "dac90977",
   "metadata": {},
   "source": [
    "### The solution is divided into the following sections:\n",
    "\n",
    "1. Data understanding and exploration\n",
    "2. Data cleaning and preparation\n",
    "3. Model building and evaluation\n",
    "4. Ridge, Lasso and Polynomial regression\n",
    "5. Residual Analysis\n"
   ]
  },
  {
   "cell_type": "code",
   "execution_count": 2,
   "id": "6343f0b8",
   "metadata": {},
   "outputs": [],
   "source": [
    "# Importing necessary libraries\n",
    "\n",
    "import pandas as pd\n",
    "import numpy as np\n",
    "import matplotlib.pyplot as plt\n",
    "import seaborn as sns\n",
    "\n",
    "from sklearn.model_selection import train_test_split, GridSearchCV\n",
    "from sklearn.linear_model import Ridge, Lasso\n",
    "from sklearn.preprocessing import PolynomialFeatures, StandardScaler\n",
    "from sklearn.metrics import mean_squared_error, r2_score\n",
    "from sklearn.pipeline import Pipeline"
   ]
  },
  {
   "cell_type": "code",
   "execution_count": 3,
   "id": "afcf743c",
   "metadata": {},
   "outputs": [],
   "source": [
    "# Loading the dataset\n",
    "data = pd.read_csv('https://ml-course3-upgrad.s3.amazonaws.com/Assignment_+Advanced+Regression/train.csv')"
   ]
  },
  {
   "cell_type": "code",
   "execution_count": 4,
   "id": "be363d64",
   "metadata": {},
   "outputs": [
    {
     "name": "stdout",
     "output_type": "stream",
     "text": [
      "Id                 0\n",
      "MSSubClass         0\n",
      "MSZoning           0\n",
      "LotFrontage      259\n",
      "LotArea            0\n",
      "                ... \n",
      "MoSold             0\n",
      "YrSold             0\n",
      "SaleType           0\n",
      "SaleCondition      0\n",
      "SalePrice          0\n",
      "Length: 81, dtype: int64\n"
     ]
    }
   ],
   "source": [
    "# Data Preprocessing\n",
    "# Checking for missing values\n",
    "print(data.isnull().sum())"
   ]
  },
  {
   "cell_type": "code",
   "execution_count": null,
   "id": "b66444ba",
   "metadata": {},
   "outputs": [],
   "source": []
  },
  {
   "cell_type": "code",
   "execution_count": 7,
   "id": "3fe775b2",
   "metadata": {},
   "outputs": [
    {
     "name": "stderr",
     "output_type": "stream",
     "text": [
      "C:\\Users\\MyPc\\AppData\\Local\\Temp\\ipykernel_10464\\199495263.py:2: FutureWarning: The default value of numeric_only in DataFrame.mean is deprecated. In a future version, it will default to False. In addition, specifying 'numeric_only=None' is deprecated. Select only valid columns or specify the value of numeric_only to silence this warning.\n",
      "  data = data.fillna(data.mean())\n"
     ]
    }
   ],
   "source": [
    "# Filling missing values if any\n",
    "data = data.fillna(data.mean())"
   ]
  },
  {
   "cell_type": "code",
   "execution_count": null,
   "id": "893b504f",
   "metadata": {},
   "outputs": [],
   "source": []
  },
  {
   "cell_type": "code",
   "execution_count": null,
   "id": "e3a97d73",
   "metadata": {},
   "outputs": [],
   "source": [
    "# Plotting correlations on a heatmap\n",
    "\n",
    "corr_matrix = df.corr()\n",
    "plt.figure(figsize=(16,8))\n",
    "\n",
    "#sns.heatmap(cor, cmap=\"YlGnBu\", annot=True)\n",
    "#plt.show()\n",
    "\n",
    "sns.heatmap(corr_matrix, annot=True, fmt='.2f', cmap='coolwarm', linewidths=0.5)\n",
    "plt.title('Correlation Heatmap of All Variables')\n",
    "plt.show()"
   ]
  },
  {
   "cell_type": "code",
   "execution_count": null,
   "id": "f05f1cba",
   "metadata": {},
   "outputs": [],
   "source": []
  },
  {
   "cell_type": "code",
   "execution_count": 10,
   "id": "e840d10c",
   "metadata": {},
   "outputs": [],
   "source": [
    "# Splitting the data into features and target variable\n",
    "X = data.drop('SalePrice', axis=1)\n",
    "y = data['SalePrice']"
   ]
  },
  {
   "cell_type": "code",
   "execution_count": null,
   "id": "a9939d16",
   "metadata": {},
   "outputs": [],
   "source": []
  },
  {
   "cell_type": "code",
   "execution_count": 11,
   "id": "42e19c34",
   "metadata": {},
   "outputs": [],
   "source": [
    "# Splitting data into training and testing sets\n",
    "X_train, X_test, y_train, y_test = train_test_split(X, y, test_size=0.2, random_state=42)"
   ]
  },
  {
   "cell_type": "code",
   "execution_count": null,
   "id": "08b016aa",
   "metadata": {},
   "outputs": [],
   "source": []
  },
  {
   "cell_type": "code",
   "execution_count": null,
   "id": "869df308",
   "metadata": {},
   "outputs": [],
   "source": [
    "# Feature scaling\n",
    "scaler = StandardScaler()\n",
    "X_train_scaled = scaler.fit_transform(X_train)\n",
    "X_test_scaled = scaler.transform(X_test)"
   ]
  },
  {
   "cell_type": "code",
   "execution_count": null,
   "id": "585d9381",
   "metadata": {},
   "outputs": [],
   "source": []
  },
  {
   "cell_type": "code",
   "execution_count": null,
   "id": "29e73420",
   "metadata": {},
   "outputs": [],
   "source": [
    "# Ridge Regression\n",
    "ridge = Ridge()\n",
    "ridge_params = {'alpha': [0.01, 0.1, 1, 10, 100]}\n",
    "ridge_cv = GridSearchCV(ridge, ridge_params, cv=5)\n",
    "ridge_cv.fit(X_train_scaled, y_train)"
   ]
  },
  {
   "cell_type": "code",
   "execution_count": null,
   "id": "d06f9483",
   "metadata": {},
   "outputs": [],
   "source": []
  },
  {
   "cell_type": "code",
   "execution_count": null,
   "id": "42270ad5",
   "metadata": {},
   "outputs": [],
   "source": [
    "# Best Ridge model\n",
    "ridge_best = ridge_cv.best_estimator_\n",
    "y_pred_ridge = ridge_best.predict(X_test_scaled)"
   ]
  },
  {
   "cell_type": "code",
   "execution_count": null,
   "id": "ed7bd760",
   "metadata": {},
   "outputs": [],
   "source": []
  },
  {
   "cell_type": "code",
   "execution_count": null,
   "id": "464446ba",
   "metadata": {},
   "outputs": [],
   "source": [
    "# Ridge Regression Performance\n",
    "print(\"Ridge Regression RMSE:\", np.sqrt(mean_squared_error(y_test, y_pred_ridge)))\n",
    "print(\"Ridge Regression R²:\", r2_score(y_test, y_pred_ridge))"
   ]
  },
  {
   "cell_type": "code",
   "execution_count": null,
   "id": "f4d6aba1",
   "metadata": {},
   "outputs": [],
   "source": []
  },
  {
   "cell_type": "code",
   "execution_count": null,
   "id": "34ec1c0b",
   "metadata": {},
   "outputs": [],
   "source": [
    "# Lasso Regression\n",
    "lasso = Lasso()\n",
    "lasso_params = {'alpha': [0.01, 0.1, 1, 10, 100]}\n",
    "lasso_cv = GridSearchCV(lasso, lasso_params, cv=5)\n",
    "lasso_cv.fit(X_train_scaled, y_train)"
   ]
  },
  {
   "cell_type": "code",
   "execution_count": null,
   "id": "0179216f",
   "metadata": {},
   "outputs": [],
   "source": []
  },
  {
   "cell_type": "code",
   "execution_count": null,
   "id": "3032a148",
   "metadata": {},
   "outputs": [],
   "source": [
    "# Best Lasso model\n",
    "lasso_best = lasso_cv.best_estimator_\n",
    "y_pred_lasso = lasso_best.predict(X_test_scaled)"
   ]
  },
  {
   "cell_type": "code",
   "execution_count": null,
   "id": "486dfb14",
   "metadata": {},
   "outputs": [],
   "source": []
  },
  {
   "cell_type": "code",
   "execution_count": null,
   "id": "9b4e9887",
   "metadata": {},
   "outputs": [],
   "source": [
    "# Lasso Regression Performance\n",
    "print(\"Lasso Regression RMSE:\", np.sqrt(mean_squared_error(y_test, y_pred_lasso)))\n",
    "print(\"Lasso Regression R²:\", r2_score(y_test, y_pred_lasso))"
   ]
  },
  {
   "cell_type": "code",
   "execution_count": null,
   "id": "4a2722ff",
   "metadata": {},
   "outputs": [],
   "source": []
  },
  {
   "cell_type": "code",
   "execution_count": null,
   "id": "ae44c807",
   "metadata": {},
   "outputs": [],
   "source": [
    "# Polynomial Regression\n",
    "poly = PolynomialFeatures(degree=2)\n",
    "X_poly_train = poly.fit_transform(X_train_scaled)\n",
    "X_poly_test = poly.transform(X_test_scaled)\n",
    "poly_model = Pipeline([('poly', PolynomialFeatures(degree=2)), \n",
    "                       ('linear', Ridge())])\n",
    "poly_model.fit(X_poly_train, y_train)\n",
    "y_pred_poly = poly_model.predict(X_poly_test)"
   ]
  },
  {
   "cell_type": "code",
   "execution_count": null,
   "id": "0f9e5176",
   "metadata": {},
   "outputs": [],
   "source": []
  },
  {
   "cell_type": "code",
   "execution_count": null,
   "id": "12d6fff3",
   "metadata": {},
   "outputs": [],
   "source": [
    "# Polynomial Regression Performance\n",
    "print(\"Polynomial Regression RMSE:\", np.sqrt(mean_squared_error(y_test, y_pred_poly)))\n",
    "print(\"Polynomial Regression R²:\", r2_score(y_test, y_pred_poly))\n"
   ]
  },
  {
   "cell_type": "code",
   "execution_count": null,
   "id": "90161c3c",
   "metadata": {},
   "outputs": [],
   "source": []
  },
  {
   "cell_type": "code",
   "execution_count": null,
   "id": "875956f0",
   "metadata": {},
   "outputs": [],
   "source": [
    "# Model Evaluation and Visualization\n",
    "# Residuals for Ridge\n",
    "residuals_ridge = y_test - y_pred_ridge\n",
    "plt.figure(figsize=(10, 6))\n",
    "sns.histplot(residuals_ridge, kde=True)\n",
    "plt.title(\"Residuals of Ridge Regression\")\n",
    "plt.xlabel(\"Residuals\")\n",
    "plt.ylabel(\"Frequency\")\n",
    "plt.show()"
   ]
  },
  {
   "cell_type": "code",
   "execution_count": null,
   "id": "3fbb1566",
   "metadata": {},
   "outputs": [],
   "source": []
  },
  {
   "cell_type": "code",
   "execution_count": null,
   "id": "ee57ddac",
   "metadata": {},
   "outputs": [],
   "source": [
    "# Residuals for Lasso\n",
    "residuals_lasso = y_test - y_pred_lasso\n",
    "plt.figure(figsize=(10, 6))\n",
    "sns.histplot(residuals_lasso, kde=True)\n",
    "plt.title(\"Residuals of Lasso Regression\")\n",
    "plt.xlabel(\"Residuals\")\n",
    "plt.ylabel(\"Frequency\")\n",
    "plt.show()"
   ]
  },
  {
   "cell_type": "code",
   "execution_count": null,
   "id": "c2c418d9",
   "metadata": {},
   "outputs": [],
   "source": []
  },
  {
   "cell_type": "code",
   "execution_count": null,
   "id": "a8533ef4",
   "metadata": {},
   "outputs": [],
   "source": [
    "# Residuals for Polynomial Regression\n",
    "residuals_poly = y_test - y_pred_poly\n",
    "plt.figure(figsize=(10, 6))\n",
    "sns.histplot(residuals_poly, kde=True)\n",
    "plt.title(\"Residuals of Polynomial Regression\")\n",
    "plt.xlabel(\"Residuals\")\n",
    "plt.ylabel(\"Frequency &#8203;``【oaicite:0】``&#8203;"
   ]
  },
  {
   "cell_type": "code",
   "execution_count": null,
   "id": "1d9f88d8",
   "metadata": {},
   "outputs": [],
   "source": []
  },
  {
   "cell_type": "code",
   "execution_count": null,
   "id": "f58f2714",
   "metadata": {},
   "outputs": [],
   "source": []
  },
  {
   "cell_type": "code",
   "execution_count": null,
   "id": "94f2dea4",
   "metadata": {},
   "outputs": [],
   "source": []
  },
  {
   "cell_type": "code",
   "execution_count": null,
   "id": "6072d722",
   "metadata": {},
   "outputs": [],
   "source": []
  }
 ],
 "metadata": {
  "kernelspec": {
   "display_name": "Python 3 (ipykernel)",
   "language": "python",
   "name": "python3"
  },
  "language_info": {
   "codemirror_mode": {
    "name": "ipython",
    "version": 3
   },
   "file_extension": ".py",
   "mimetype": "text/x-python",
   "name": "python",
   "nbconvert_exporter": "python",
   "pygments_lexer": "ipython3",
   "version": "3.11.4"
  }
 },
 "nbformat": 4,
 "nbformat_minor": 5
}
